{
 "cells": [
  {
   "cell_type": "code",
   "id": "9cff9226-e3a4-4a65-b39a-6e823d87cfc9",
   "metadata": {},
   "source": [
    "import glob\n",
    "\n",
    "import pandas as pd\n",
    "from prophet import Prophet"
   ],
   "outputs": [],
   "execution_count": null
  },
  {
   "cell_type": "code",
   "id": "5b74f87b-b162-40a1-8357-0abd00a2058f",
   "metadata": {},
   "source": [
    "df = pd.concat(map(pd.read_csv, glob.glob('The Crown & Cutlery/*.csv')), ignore_index=True)\n",
    "df.fillna(0)\n",
    "\n",
    "regressors = ('Temperature','Humidity', 'Is_Raining', 'Is_Sunny', 'Is_Holiday')"
   ],
   "outputs": [],
   "execution_count": null
  },
  {
   "cell_type": "code",
   "id": "320328f0-3909-4852-a3d9-dae51d779de0",
   "metadata": {},
   "source": [
    "df[\"y\"] = df[['Dessert_Waste_kg', 'Soup_Waste_kg',\n",
    "       'Main Course_Waste_kg', 'Appetizer_Waste_kg', 'Salad_Waste_kg',\n",
    "       'Beverage_Waste_kg']].sum(axis=1)\n",
    "df.rename(columns={\"Date\": \"ds\"}, inplace=True)"
   ],
   "outputs": [],
   "execution_count": null
  },
  {
   "cell_type": "code",
   "id": "e858730f-0222-4dec-9b27-a355236c52b1",
   "metadata": {},
   "source": [
    "m = Prophet()\n",
    "m.add_country_holidays(country_name='UK')\n",
    "for i in regressors:\n",
    "    m.add_regressor(i)\n",
    "m.fit(df)"
   ],
   "outputs": [],
   "execution_count": null
  },
  {
   "cell_type": "code",
   "id": "a6ddde83-0fa5-442c-8f25-c7a25683cce0",
   "metadata": {},
   "source": [
    "future = m.make_future_dataframe(periods=30)\n",
    "\n",
    "for i in regressors:\n",
    "    dfr = df[['ds', i]]\n",
    "    dfr = dfr.rename(columns={i: \"y\"})\n",
    "    rm = Prophet()\n",
    "    rm.fit(dfr)\n",
    "    rfuture = rm.make_future_dataframe(periods=30)\n",
    "    rforecast = rm.predict(rfuture)\n",
    "    future[i] = rforecast[\"yhat\"]"
   ],
   "outputs": [],
   "execution_count": null
  },
  {
   "cell_type": "code",
   "id": "cc2aaa16-e9c1-4eae-b4e2-a8540fe886d9",
   "metadata": {},
   "source": [
    "forecast = m.predict(future)"
   ],
   "outputs": [],
   "execution_count": null
  },
  {
   "cell_type": "code",
   "id": "29c93b73-95bc-4650-be45-65bafe15480a",
   "metadata": {},
   "source": [
    "fig1 = m.plot(forecast)"
   ],
   "outputs": [],
   "execution_count": null
  },
  {
   "cell_type": "code",
   "id": "9bbea503-8208-4542-9c62-c59dcdcb9b42",
   "metadata": {},
   "source": [
    "fig2 = m.plot_components(forecast)"
   ],
   "outputs": [],
   "execution_count": null
  }
 ],
 "metadata": {
  "kernelspec": {
   "display_name": "venv",
   "language": "python",
   "name": "venv"
  },
  "language_info": {
   "codemirror_mode": {
    "name": "ipython",
    "version": 3
   },
   "file_extension": ".py",
   "mimetype": "text/x-python",
   "name": "python",
   "nbconvert_exporter": "python",
   "pygments_lexer": "ipython3",
   "version": "3.12.8"
  }
 },
 "nbformat": 4,
 "nbformat_minor": 5
}
